{
 "cells": [
  {
   "cell_type": "code",
   "execution_count": null,
   "metadata": {},
   "outputs": [],
   "source": [
    "from sklearn.cluster import DBSCAN\n",
    "import pandas as pd\n",
    "import numpy as np"
   ]
  },
  {
   "cell_type": "code",
   "execution_count": null,
   "metadata": {},
   "outputs": [],
   "source": [
    "class TCluster:\n",
    "    \"\"\"\n",
    "    Class that implements the T-Cluster algorithm. It uses the DBSCAN algorithm to cluster the points and then\n",
    "    uses the trie to predict the words that the user is gaze-typing.\n",
    "    \"\"\"\n",
    "\n",
    "    def __init__(self, eps: float=0.1, min_samples: int=5):\n",
    "        \"\"\"\n",
    "        Constructor for the TCluster class.\n",
    "        \"\"\"\n",
    "\n",
    "        # DBSCAN parameters\n",
    "        self.eps: float = eps\n",
    "        self.min_samples: int = min_samples\n",
    "        self.model: DBSCAN = DBSCAN(eps=eps, min_samples=min_samples)\n",
    "\n",
    "        # Sets up the data parameters for later\n",
    "        self.X: pd.DataFrame = None\n",
    "        self.labels_: list = None\n",
    "        \n",
    "\n",
    "\n",
    "\n",
    "    def fit(self, X: pd.DataFrame, verbose: bool=False):\n",
    "        \"\"\"\n",
    "        Fits the model to the data.\n",
    "\n",
    "        @params:\n",
    "        X: pd.DataFrame - The data to fit the model to.\n",
    "        verbose: bool - Whether to print the labels and core samples.\n",
    "        \"\"\"\n",
    "\n",
    "        self.X = X\n",
    "\n",
    "        # Fit the DBSCAN model to the data\n",
    "        self.model.fit(X)\n",
    "\n",
    "        self.labels_ = self.model.labels_\n",
    "        self.X['label'] = self.labels_\n",
    "\n",
    "        self._filter_labels()\n",
    "\n",
    "        if verbose:\n",
    "            print(f'{len(self.model.labels_)} Labels:', self.model.labels_)\n",
    "            print('Core samples:', self.model.core_sample_indices_)\n",
    "\n",
    "    def _filter_labels(self):\n",
    "        \"\"\"\n",
    "        Filters the labels that are -1 and the labels that are 2 IQRs away from the median size of the clusters.\n",
    "        \"\"\"\n",
    "        \n",
    "        # Noise points\n",
    "        self.X = self.X[self.X['label'] != -1]\n",
    "\n",
    "        # Don't keep the labels that the amount of points are 2 IQRs away from the median\n",
    "        Q1 = self.X['label'].value_counts().quantile(0.25)\n",
    "        Q3 = self.X['label'].value_counts().quantile(0.75)\n",
    "        IQR = Q3 - Q1\n",
    "\n",
    "        self.X = self.X[self.X['label'].map(self.X['label'].value_counts()) > Q1 - 1.5 * IQR]\n",
    "\n",
    "        # Update the labels\n",
    "        self.labels_ = self.X['label'].tolist()"
   ]
  },
  {
   "cell_type": "code",
   "execution_count": null,
   "metadata": {},
   "outputs": [],
   "source": [
    "# TODO\n",
    "center = ...\n",
    "radius = ...\n",
    "outerRadius = ...\n",
    "points =  ... #exactly the gaze_points field from the json request\n",
    "\n",
    "# Filters the points that are outside the circle or in the inner part\n",
    "points = [(point['x'], point['y'], point['z']) for point in points if ((point['x'] - center[0])**2 + (point['y'] - center[1])**2 > radius**2 and \n",
    "                                                                           (point['x'] - center[0])**2 + (point['y'] - center[1])**2 < outerRadius**2)]\n",
    "\n",
    "# Create the dataframe\n",
    "X = pd.DataFrame(points, columns=['x', 'y', 'time'])"
   ]
  },
  {
   "cell_type": "code",
   "execution_count": null,
   "metadata": {},
   "outputs": [],
   "source": [
    "model = TCluster()\n",
    "\n",
    "# Do the clustering\n",
    "model.fit(X)\n",
    "\n",
    "# Get the clustered data with the labels\n",
    "X = model.X"
   ]
  },
  {
   "cell_type": "code",
   "execution_count": null,
   "metadata": {},
   "outputs": [],
   "source": [
    "# Calculate the position of the centroid of each cluster\n",
    "centroids = X.groupby('label')[['x', 'y']].mean()"
   ]
  },
  {
   "cell_type": "markdown",
   "metadata": {},
   "source": [
    "# **Plotting**"
   ]
  },
  {
   "cell_type": "code",
   "execution_count": null,
   "metadata": {},
   "outputs": [],
   "source": [
    "#TODO"
   ]
  }
 ],
 "metadata": {
  "kernelspec": {
   "display_name": "glance-writer",
   "language": "python",
   "name": "python3"
  },
  "language_info": {
   "name": "python",
   "version": "3.12.4"
  }
 },
 "nbformat": 4,
 "nbformat_minor": 2
}
